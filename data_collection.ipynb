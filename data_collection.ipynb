{
 "cells": [
  {
   "cell_type": "code",
   "id": "initial_id",
   "metadata": {
    "collapsed": true,
    "ExecuteTime": {
     "end_time": "2025-07-13T12:18:47.796964Z",
     "start_time": "2025-07-13T12:18:46.934961Z"
    }
   },
   "source": "import pandas as pd",
   "outputs": [],
   "execution_count": 1
  },
  {
   "metadata": {
    "ExecuteTime": {
     "end_time": "2025-07-13T12:18:48.178299Z",
     "start_time": "2025-07-13T12:18:48.170303Z"
    }
   },
   "cell_type": "code",
   "source": [
    "# Target id\n",
    "target_id = \"CHEMBL2760\""
   ],
   "id": "b1eeb735a3fe2c43",
   "outputs": [],
   "execution_count": 2
  },
  {
   "metadata": {
    "ExecuteTime": {
     "end_time": "2025-07-13T12:18:49.532419Z",
     "start_time": "2025-07-13T12:18:49.155637Z"
    }
   },
   "cell_type": "code",
   "source": [
    "from loader.load_chembl import parse_activities\n",
    "# Load the data\n",
    "target_raw = parse_activities(target_id=target_id)"
   ],
   "id": "f13e9e14d7554b54",
   "outputs": [],
   "execution_count": 3
  },
  {
   "metadata": {
    "ExecuteTime": {
     "end_time": "2025-07-13T12:21:14.746310Z",
     "start_time": "2025-07-13T12:21:14.715317Z"
    }
   },
   "cell_type": "code",
   "source": [
    "from loader.clean_chembl import clean_data\n",
    "# Clean the data\n",
    "target_clean = clean_data(target_id, rewrite=False)"
   ],
   "id": "5922497dcd43d030",
   "outputs": [],
   "execution_count": 7
  },
  {
   "metadata": {},
   "cell_type": "code",
   "outputs": [],
   "execution_count": null,
   "source": "",
   "id": "3b97f5bcaee983d4"
  }
 ],
 "metadata": {
  "kernelspec": {
   "display_name": "Python 3",
   "language": "python",
   "name": "python3"
  },
  "language_info": {
   "codemirror_mode": {
    "name": "ipython",
    "version": 2
   },
   "file_extension": ".py",
   "mimetype": "text/x-python",
   "name": "python",
   "nbconvert_exporter": "python",
   "pygments_lexer": "ipython2",
   "version": "2.7.6"
  }
 },
 "nbformat": 4,
 "nbformat_minor": 5
}
