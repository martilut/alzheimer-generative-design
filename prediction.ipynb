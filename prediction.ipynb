{
 "cells": [
  {
   "metadata": {
    "ExecuteTime": {
     "end_time": "2025-07-15T09:48:20.396185Z",
     "start_time": "2025-07-15T09:48:17.378583Z"
    }
   },
   "cell_type": "code",
   "source": [
    "from predictor.predict import predict_rdkit_morgan\n",
    "\n",
    "predict_rdkit_morgan(\n",
    "    smiles=\"CN[C@@H]1C[C@H]2O[C@@](C)([C@@H]1OC)n1c3ccccc3c3c4c(c5c6ccccc6n2c5c31)C(=O)NC4\",\n",
    "    model_name=\"catboost\",\n",
    ")"
   ],
   "id": "791eae8b4813098a",
   "outputs": [
    {
     "data": {
      "text/plain": [
       "15.602742974455978"
      ]
     },
     "execution_count": 1,
     "metadata": {},
     "output_type": "execute_result"
    }
   ],
   "execution_count": 1
  }
 ],
 "metadata": {
  "kernelspec": {
   "display_name": "Python 3",
   "language": "python",
   "name": "python3"
  },
  "language_info": {
   "codemirror_mode": {
    "name": "ipython",
    "version": 2
   },
   "file_extension": ".py",
   "mimetype": "text/x-python",
   "name": "python",
   "nbconvert_exporter": "python",
   "pygments_lexer": "ipython2",
   "version": "2.7.6"
  }
 },
 "nbformat": 4,
 "nbformat_minor": 5
}
