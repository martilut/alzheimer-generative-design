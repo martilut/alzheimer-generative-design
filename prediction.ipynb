{
 "cells": [
  {
   "cell_type": "code",
   "id": "initial_id",
   "metadata": {
    "collapsed": true,
    "ExecuteTime": {
     "end_time": "2025-07-14T14:22:54.909497Z",
     "start_time": "2025-07-14T14:22:52.044854Z"
    }
   },
   "source": [
    "from predictor.predict import predict\n",
    "\n",
    "predict(\n",
    "    smiles=\"COc1c(O)cc2oc3cc(O)c(CC=C(C)C)c(O)c3c(=O)c2c1CC=C(C)C\", \n",
    "    model_name=\"catboost_mordred\", # model name, look for available models in resources (model_name.pkl)\n",
    "    desc_func_name=\"mordred\" # it should match descriptors in model name\n",
    ") # return pIC50"
   ],
   "outputs": [
    {
     "data": {
      "text/plain": [
       "-4.206736495635632"
      ]
     },
     "execution_count": 1,
     "metadata": {},
     "output_type": "execute_result"
    }
   ],
   "execution_count": 1
  },
  {
   "metadata": {
    "ExecuteTime": {
     "end_time": "2025-07-14T14:23:24.248658Z",
     "start_time": "2025-07-14T14:23:24.195873Z"
    }
   },
   "cell_type": "code",
   "source": [
    "predict(\n",
    "    smiles=\"COc1c(O)cc2oc3cc(O)c(CC=C(C)C)c(O)c3c(=O)c2c1CC=C(C)C\", \n",
    "    model_name=\"catboost_rdkit\",\n",
    "    desc_func_name=\"rdkit\"\n",
    ") # return pIC50"
   ],
   "id": "2dc7ebdf7b8eeb9c",
   "outputs": [
    {
     "data": {
      "text/plain": [
       "-4.152364264118942"
      ]
     },
     "execution_count": 2,
     "metadata": {},
     "output_type": "execute_result"
    }
   ],
   "execution_count": 2
  },
  {
   "metadata": {},
   "cell_type": "code",
   "outputs": [],
   "execution_count": null,
   "source": "",
   "id": "4891fea87dc747e2"
  }
 ],
 "metadata": {
  "kernelspec": {
   "display_name": "Python 3",
   "language": "python",
   "name": "python3"
  },
  "language_info": {
   "codemirror_mode": {
    "name": "ipython",
    "version": 2
   },
   "file_extension": ".py",
   "mimetype": "text/x-python",
   "name": "python",
   "nbconvert_exporter": "python",
   "pygments_lexer": "ipython2",
   "version": "2.7.6"
  }
 },
 "nbformat": 4,
 "nbformat_minor": 5
}
