{
 "cells": [
  {
   "cell_type": "code",
   "id": "initial_id",
   "metadata": {
    "collapsed": true,
    "ExecuteTime": {
     "end_time": "2025-07-14T13:25:40.223043Z",
     "start_time": "2025-07-14T13:25:40.165973Z"
    }
   },
   "source": [
    "from predictor.predict import predict\n",
    "\n",
    "predict(\n",
    "    smiles=\"COc1c(O)cc2oc3cc(O)c(CC=C(C)C)c(O)c3c(=O)c2c1CC=C(C)C\", \n",
    "    model_name=\"catboost\" # model name, look for available models in resources (model_name.pkl)\n",
    ") # return pIC50"
   ],
   "outputs": [
    {
     "data": {
      "text/plain": [
       "-4.152364264118942"
      ]
     },
     "execution_count": 2,
     "metadata": {},
     "output_type": "execute_result"
    }
   ],
   "execution_count": 2
  }
 ],
 "metadata": {
  "kernelspec": {
   "display_name": "Python 3",
   "language": "python",
   "name": "python3"
  },
  "language_info": {
   "codemirror_mode": {
    "name": "ipython",
    "version": 2
   },
   "file_extension": ".py",
   "mimetype": "text/x-python",
   "name": "python",
   "nbconvert_exporter": "python",
   "pygments_lexer": "ipython2",
   "version": "2.7.6"
  }
 },
 "nbformat": 4,
 "nbformat_minor": 5
}
