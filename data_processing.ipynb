{
 "cells": [
  {
   "cell_type": "code",
   "id": "initial_id",
   "metadata": {
    "collapsed": true,
    "ExecuteTime": {
     "end_time": "2025-07-13T15:55:28.014652Z",
     "start_time": "2025-07-13T15:55:27.335676Z"
    }
   },
   "source": "import pandas as pd",
   "outputs": [],
   "execution_count": 1
  },
  {
   "metadata": {
    "ExecuteTime": {
     "end_time": "2025-07-13T15:55:28.030657Z",
     "start_time": "2025-07-13T15:55:28.021658Z"
    }
   },
   "cell_type": "code",
   "source": [
    "# Target id\n",
    "target_id = \"CHEMBL2760\""
   ],
   "id": "b1eeb735a3fe2c43",
   "outputs": [],
   "execution_count": 2
  },
  {
   "metadata": {
    "ExecuteTime": {
     "end_time": "2025-07-13T15:55:28.631191Z",
     "start_time": "2025-07-13T15:55:28.350276Z"
    }
   },
   "cell_type": "code",
   "source": [
    "from loader.load_chembl import parse_activities\n",
    "# Load the data\n",
    "target_raw = parse_activities(target_id=target_id)"
   ],
   "id": "f13e9e14d7554b54",
   "outputs": [],
   "execution_count": 3
  },
  {
   "metadata": {
    "ExecuteTime": {
     "end_time": "2025-07-13T15:55:28.709199Z",
     "start_time": "2025-07-13T15:55:28.664197Z"
    }
   },
   "cell_type": "code",
   "source": "target_raw.head()",
   "id": "3f901a13e57b1f4d",
   "outputs": [
    {
     "data": {
      "text/plain": [
       "  action_type  activity_comment  activity_id activity_properties  \\\n",
       "0         NaN               NaN       188231                  []   \n",
       "1         NaN               NaN       194117                  []   \n",
       "2         NaN               NaN       206131                  []   \n",
       "3         NaN               NaN       206133                  []   \n",
       "4         NaN               NaN       210721                  []   \n",
       "\n",
       "  assay_chembl_id                                  assay_description  \\\n",
       "0    CHEMBL644937  Inhibitory activity against Acid sphingomyelinase   \n",
       "1    CHEMBL644937  Inhibitory activity against Acid sphingomyelinase   \n",
       "2    CHEMBL644937  Inhibitory activity against Acid sphingomyelinase   \n",
       "3    CHEMBL644937  Inhibitory activity against Acid sphingomyelinase   \n",
       "4    CHEMBL644937  Inhibitory activity against Acid sphingomyelinase   \n",
       "\n",
       "  assay_type  assay_variant_accession  assay_variant_mutation bao_endpoint  \\\n",
       "0          B                      NaN                     NaN  BAO_0000190   \n",
       "1          B                      NaN                     NaN  BAO_0000190   \n",
       "2          B                      NaN                     NaN  BAO_0000190   \n",
       "3          B                      NaN                     NaN  BAO_0000190   \n",
       "4          B                      NaN                     NaN  BAO_0000190   \n",
       "\n",
       "   ... target_organism                 target_pref_name target_tax_id  \\\n",
       "0  ...    Homo sapiens  Sphingomyelin phosphodiesterase          9606   \n",
       "1  ...    Homo sapiens  Sphingomyelin phosphodiesterase          9606   \n",
       "2  ...    Homo sapiens  Sphingomyelin phosphodiesterase          9606   \n",
       "3  ...    Homo sapiens  Sphingomyelin phosphodiesterase          9606   \n",
       "4  ...    Homo sapiens  Sphingomyelin phosphodiesterase          9606   \n",
       "\n",
       "  text_value toid  type    units    uo_units upper_value  value  \n",
       "0        NaN  NaN  IC50  ug ml-1  UO_0000274         NaN   5.25  \n",
       "1        NaN  NaN  IC50  ug ml-1  UO_0000274         NaN  24.00  \n",
       "2        NaN  NaN  IC50  ug ml-1  UO_0000274         NaN   5.30  \n",
       "3        NaN  NaN  IC50  ug ml-1  UO_0000274         NaN   5.15  \n",
       "4        NaN  NaN  IC50  ug ml-1  UO_0000274         NaN  34.50  \n",
       "\n",
       "[5 rows x 46 columns]"
      ],
      "text/html": [
       "<div>\n",
       "<style scoped>\n",
       "    .dataframe tbody tr th:only-of-type {\n",
       "        vertical-align: middle;\n",
       "    }\n",
       "\n",
       "    .dataframe tbody tr th {\n",
       "        vertical-align: top;\n",
       "    }\n",
       "\n",
       "    .dataframe thead th {\n",
       "        text-align: right;\n",
       "    }\n",
       "</style>\n",
       "<table border=\"1\" class=\"dataframe\">\n",
       "  <thead>\n",
       "    <tr style=\"text-align: right;\">\n",
       "      <th></th>\n",
       "      <th>action_type</th>\n",
       "      <th>activity_comment</th>\n",
       "      <th>activity_id</th>\n",
       "      <th>activity_properties</th>\n",
       "      <th>assay_chembl_id</th>\n",
       "      <th>assay_description</th>\n",
       "      <th>assay_type</th>\n",
       "      <th>assay_variant_accession</th>\n",
       "      <th>assay_variant_mutation</th>\n",
       "      <th>bao_endpoint</th>\n",
       "      <th>...</th>\n",
       "      <th>target_organism</th>\n",
       "      <th>target_pref_name</th>\n",
       "      <th>target_tax_id</th>\n",
       "      <th>text_value</th>\n",
       "      <th>toid</th>\n",
       "      <th>type</th>\n",
       "      <th>units</th>\n",
       "      <th>uo_units</th>\n",
       "      <th>upper_value</th>\n",
       "      <th>value</th>\n",
       "    </tr>\n",
       "  </thead>\n",
       "  <tbody>\n",
       "    <tr>\n",
       "      <th>0</th>\n",
       "      <td>NaN</td>\n",
       "      <td>NaN</td>\n",
       "      <td>188231</td>\n",
       "      <td>[]</td>\n",
       "      <td>CHEMBL644937</td>\n",
       "      <td>Inhibitory activity against Acid sphingomyelinase</td>\n",
       "      <td>B</td>\n",
       "      <td>NaN</td>\n",
       "      <td>NaN</td>\n",
       "      <td>BAO_0000190</td>\n",
       "      <td>...</td>\n",
       "      <td>Homo sapiens</td>\n",
       "      <td>Sphingomyelin phosphodiesterase</td>\n",
       "      <td>9606</td>\n",
       "      <td>NaN</td>\n",
       "      <td>NaN</td>\n",
       "      <td>IC50</td>\n",
       "      <td>ug ml-1</td>\n",
       "      <td>UO_0000274</td>\n",
       "      <td>NaN</td>\n",
       "      <td>5.25</td>\n",
       "    </tr>\n",
       "    <tr>\n",
       "      <th>1</th>\n",
       "      <td>NaN</td>\n",
       "      <td>NaN</td>\n",
       "      <td>194117</td>\n",
       "      <td>[]</td>\n",
       "      <td>CHEMBL644937</td>\n",
       "      <td>Inhibitory activity against Acid sphingomyelinase</td>\n",
       "      <td>B</td>\n",
       "      <td>NaN</td>\n",
       "      <td>NaN</td>\n",
       "      <td>BAO_0000190</td>\n",
       "      <td>...</td>\n",
       "      <td>Homo sapiens</td>\n",
       "      <td>Sphingomyelin phosphodiesterase</td>\n",
       "      <td>9606</td>\n",
       "      <td>NaN</td>\n",
       "      <td>NaN</td>\n",
       "      <td>IC50</td>\n",
       "      <td>ug ml-1</td>\n",
       "      <td>UO_0000274</td>\n",
       "      <td>NaN</td>\n",
       "      <td>24.00</td>\n",
       "    </tr>\n",
       "    <tr>\n",
       "      <th>2</th>\n",
       "      <td>NaN</td>\n",
       "      <td>NaN</td>\n",
       "      <td>206131</td>\n",
       "      <td>[]</td>\n",
       "      <td>CHEMBL644937</td>\n",
       "      <td>Inhibitory activity against Acid sphingomyelinase</td>\n",
       "      <td>B</td>\n",
       "      <td>NaN</td>\n",
       "      <td>NaN</td>\n",
       "      <td>BAO_0000190</td>\n",
       "      <td>...</td>\n",
       "      <td>Homo sapiens</td>\n",
       "      <td>Sphingomyelin phosphodiesterase</td>\n",
       "      <td>9606</td>\n",
       "      <td>NaN</td>\n",
       "      <td>NaN</td>\n",
       "      <td>IC50</td>\n",
       "      <td>ug ml-1</td>\n",
       "      <td>UO_0000274</td>\n",
       "      <td>NaN</td>\n",
       "      <td>5.30</td>\n",
       "    </tr>\n",
       "    <tr>\n",
       "      <th>3</th>\n",
       "      <td>NaN</td>\n",
       "      <td>NaN</td>\n",
       "      <td>206133</td>\n",
       "      <td>[]</td>\n",
       "      <td>CHEMBL644937</td>\n",
       "      <td>Inhibitory activity against Acid sphingomyelinase</td>\n",
       "      <td>B</td>\n",
       "      <td>NaN</td>\n",
       "      <td>NaN</td>\n",
       "      <td>BAO_0000190</td>\n",
       "      <td>...</td>\n",
       "      <td>Homo sapiens</td>\n",
       "      <td>Sphingomyelin phosphodiesterase</td>\n",
       "      <td>9606</td>\n",
       "      <td>NaN</td>\n",
       "      <td>NaN</td>\n",
       "      <td>IC50</td>\n",
       "      <td>ug ml-1</td>\n",
       "      <td>UO_0000274</td>\n",
       "      <td>NaN</td>\n",
       "      <td>5.15</td>\n",
       "    </tr>\n",
       "    <tr>\n",
       "      <th>4</th>\n",
       "      <td>NaN</td>\n",
       "      <td>NaN</td>\n",
       "      <td>210721</td>\n",
       "      <td>[]</td>\n",
       "      <td>CHEMBL644937</td>\n",
       "      <td>Inhibitory activity against Acid sphingomyelinase</td>\n",
       "      <td>B</td>\n",
       "      <td>NaN</td>\n",
       "      <td>NaN</td>\n",
       "      <td>BAO_0000190</td>\n",
       "      <td>...</td>\n",
       "      <td>Homo sapiens</td>\n",
       "      <td>Sphingomyelin phosphodiesterase</td>\n",
       "      <td>9606</td>\n",
       "      <td>NaN</td>\n",
       "      <td>NaN</td>\n",
       "      <td>IC50</td>\n",
       "      <td>ug ml-1</td>\n",
       "      <td>UO_0000274</td>\n",
       "      <td>NaN</td>\n",
       "      <td>34.50</td>\n",
       "    </tr>\n",
       "  </tbody>\n",
       "</table>\n",
       "<p>5 rows × 46 columns</p>\n",
       "</div>"
      ]
     },
     "execution_count": 4,
     "metadata": {},
     "output_type": "execute_result"
    }
   ],
   "execution_count": 4
  },
  {
   "metadata": {
    "ExecuteTime": {
     "end_time": "2025-07-13T15:55:28.882193Z",
     "start_time": "2025-07-13T15:55:28.853197Z"
    }
   },
   "cell_type": "code",
   "source": [
    "from loader.clean_chembl import clean_data\n",
    "# Clean the data\n",
    "target_clean = clean_data(target_id=target_id, rewrite=False)"
   ],
   "id": "5922497dcd43d030",
   "outputs": [],
   "execution_count": 5
  },
  {
   "metadata": {
    "ExecuteTime": {
     "end_time": "2025-07-13T15:55:29.483790Z",
     "start_time": "2025-07-13T15:55:29.455792Z"
    }
   },
   "cell_type": "code",
   "source": "target_clean.head()",
   "id": "885293f1758fe746",
   "outputs": [
    {
     "data": {
      "text/plain": [
       "                                                     canonical_smiles  \\\n",
       "molecule_chembl_id                                                      \n",
       "CHEMBL323197        COc1c(O)cc2oc3cc(O)c(CC=C(C)C)c(O)c3c(=O)c2c1C...   \n",
       "CHEMBL4167681                          CCCCCCCCCCOc1cc(C(=O)NO)ccc1OC   \n",
       "CHEMBL320658           COc1c(O)cc(O)c(C(=O)c2c(O)cc(O)cc2O)c1CC=C(C)C   \n",
       "CHEMBL109045           COc1cc(C(=O)c2c(O)cc(O)c(CC=C(C)C)c2O)c(O)cc1O   \n",
       "CHEMBL4464068                             CCCCCCCCCCOc1cc(C(=O)NO)on1   \n",
       "\n",
       "                    standard_value  \n",
       "molecule_chembl_id                  \n",
       "CHEMBL323197               14100.0  \n",
       "CHEMBL4167681                890.0  \n",
       "CHEMBL320658               14700.0  \n",
       "CHEMBL109045               66000.0  \n",
       "CHEMBL4464068                360.0  "
      ],
      "text/html": [
       "<div>\n",
       "<style scoped>\n",
       "    .dataframe tbody tr th:only-of-type {\n",
       "        vertical-align: middle;\n",
       "    }\n",
       "\n",
       "    .dataframe tbody tr th {\n",
       "        vertical-align: top;\n",
       "    }\n",
       "\n",
       "    .dataframe thead th {\n",
       "        text-align: right;\n",
       "    }\n",
       "</style>\n",
       "<table border=\"1\" class=\"dataframe\">\n",
       "  <thead>\n",
       "    <tr style=\"text-align: right;\">\n",
       "      <th></th>\n",
       "      <th>canonical_smiles</th>\n",
       "      <th>standard_value</th>\n",
       "    </tr>\n",
       "    <tr>\n",
       "      <th>molecule_chembl_id</th>\n",
       "      <th></th>\n",
       "      <th></th>\n",
       "    </tr>\n",
       "  </thead>\n",
       "  <tbody>\n",
       "    <tr>\n",
       "      <th>CHEMBL323197</th>\n",
       "      <td>COc1c(O)cc2oc3cc(O)c(CC=C(C)C)c(O)c3c(=O)c2c1C...</td>\n",
       "      <td>14100.0</td>\n",
       "    </tr>\n",
       "    <tr>\n",
       "      <th>CHEMBL4167681</th>\n",
       "      <td>CCCCCCCCCCOc1cc(C(=O)NO)ccc1OC</td>\n",
       "      <td>890.0</td>\n",
       "    </tr>\n",
       "    <tr>\n",
       "      <th>CHEMBL320658</th>\n",
       "      <td>COc1c(O)cc(O)c(C(=O)c2c(O)cc(O)cc2O)c1CC=C(C)C</td>\n",
       "      <td>14700.0</td>\n",
       "    </tr>\n",
       "    <tr>\n",
       "      <th>CHEMBL109045</th>\n",
       "      <td>COc1cc(C(=O)c2c(O)cc(O)c(CC=C(C)C)c2O)c(O)cc1O</td>\n",
       "      <td>66000.0</td>\n",
       "    </tr>\n",
       "    <tr>\n",
       "      <th>CHEMBL4464068</th>\n",
       "      <td>CCCCCCCCCCOc1cc(C(=O)NO)on1</td>\n",
       "      <td>360.0</td>\n",
       "    </tr>\n",
       "  </tbody>\n",
       "</table>\n",
       "</div>"
      ]
     },
     "execution_count": 6,
     "metadata": {},
     "output_type": "execute_result"
    }
   ],
   "execution_count": 6
  },
  {
   "metadata": {
    "ExecuteTime": {
     "end_time": "2025-07-13T15:55:35.728199Z",
     "start_time": "2025-07-13T15:55:29.865881Z"
    }
   },
   "cell_type": "code",
   "source": [
    "from filter.filter_molecules import filter_molecules\n",
    "\n",
    "df_filtered = filter_molecules(target_clean)"
   ],
   "id": "3b97f5bcaee983d4",
   "outputs": [
    {
     "name": "stderr",
     "output_type": "stream",
     "text": [
      "<frozen importlib._bootstrap>:241: RuntimeWarning: to-Python converter for class boost::shared_ptr<class RDKit::FilterHierarchyMatcher> already registered; second conversion method ignored.\n"
     ]
    }
   ],
   "execution_count": 7
  },
  {
   "metadata": {
    "ExecuteTime": {
     "end_time": "2025-07-13T15:55:35.792205Z",
     "start_time": "2025-07-13T15:55:35.778206Z"
    }
   },
   "cell_type": "code",
   "source": "df_filtered",
   "id": "a9e7abc92c33588f",
   "outputs": [
    {
     "data": {
      "text/plain": [
       "Empty DataFrame\n",
       "Columns: [molecule_chembl_id, smiles, ic50, tox_free, bbb, qed, sa, lip, carc]\n",
       "Index: []"
      ],
      "text/html": [
       "<div>\n",
       "<style scoped>\n",
       "    .dataframe tbody tr th:only-of-type {\n",
       "        vertical-align: middle;\n",
       "    }\n",
       "\n",
       "    .dataframe tbody tr th {\n",
       "        vertical-align: top;\n",
       "    }\n",
       "\n",
       "    .dataframe thead th {\n",
       "        text-align: right;\n",
       "    }\n",
       "</style>\n",
       "<table border=\"1\" class=\"dataframe\">\n",
       "  <thead>\n",
       "    <tr style=\"text-align: right;\">\n",
       "      <th></th>\n",
       "      <th>molecule_chembl_id</th>\n",
       "      <th>smiles</th>\n",
       "      <th>ic50</th>\n",
       "      <th>tox_free</th>\n",
       "      <th>bbb</th>\n",
       "      <th>qed</th>\n",
       "      <th>sa</th>\n",
       "      <th>lip</th>\n",
       "      <th>carc</th>\n",
       "    </tr>\n",
       "  </thead>\n",
       "  <tbody>\n",
       "  </tbody>\n",
       "</table>\n",
       "</div>"
      ]
     },
     "execution_count": 8,
     "metadata": {},
     "output_type": "execute_result"
    }
   ],
   "execution_count": 8
  },
  {
   "metadata": {},
   "cell_type": "code",
   "outputs": [],
   "execution_count": null,
   "source": "",
   "id": "6f2f8f4ce8ed06a2"
  }
 ],
 "metadata": {
  "kernelspec": {
   "display_name": "Python 3",
   "language": "python",
   "name": "python3"
  },
  "language_info": {
   "codemirror_mode": {
    "name": "ipython",
    "version": 2
   },
   "file_extension": ".py",
   "mimetype": "text/x-python",
   "name": "python",
   "nbconvert_exporter": "python",
   "pygments_lexer": "ipython2",
   "version": "2.7.6"
  }
 },
 "nbformat": 4,
 "nbformat_minor": 5
}
