{
 "cells": [
  {
   "cell_type": "code",
   "id": "initial_id",
   "metadata": {
    "collapsed": true
   },
   "source": [
    "import pandas as pd"
   ],
   "outputs": [],
   "execution_count": null
  },
  {
   "metadata": {},
   "cell_type": "code",
   "source": [
    "import random\n",
    "import numpy as np\n",
    "\n",
    "# set seed for reproducibility\n",
    "SEED = 42\n",
    "random.seed(SEED)\n",
    "np.random.seed(SEED)"
   ],
   "id": "29825506bfd4c628",
   "outputs": [],
   "execution_count": null
  },
  {
   "metadata": {},
   "cell_type": "code",
   "source": [
    "# Target id\n",
    "target_id = \"CHEMBL262\""
   ],
   "id": "b1eeb735a3fe2c43",
   "outputs": [],
   "execution_count": null
  },
  {
   "metadata": {},
   "cell_type": "code",
   "source": [
    "from loader.load_chembl import parse_activities\n",
    "# Load the data\n",
    "target_raw = parse_activities(target_id=target_id)"
   ],
   "id": "f13e9e14d7554b54",
   "outputs": [],
   "execution_count": null
  },
  {
   "metadata": {},
   "cell_type": "code",
   "source": "target_raw.shape",
   "id": "3f901a13e57b1f4d",
   "outputs": [],
   "execution_count": null
  },
  {
   "metadata": {},
   "cell_type": "code",
   "source": [
    "from loader.clean_chembl import clean_data\n",
    "# Clean the data\n",
    "target_clean = clean_data(target_id=target_id, rewrite=False)"
   ],
   "id": "5922497dcd43d030",
   "outputs": [],
   "execution_count": null
  },
  {
   "metadata": {},
   "cell_type": "code",
   "source": "target_clean.shape",
   "id": "885293f1758fe746",
   "outputs": [],
   "execution_count": null
  },
  {
   "metadata": {},
   "cell_type": "code",
   "source": [
    "import numpy as np\n",
    "\n",
    "y10 = target_clean['standard_value'] * 1e-9 # to moles\n",
    "y10 = -np.log(y10)\n",
    "y10.dropna(inplace=True)"
   ],
   "id": "1303dabb6ddb98a5",
   "outputs": [],
   "execution_count": null
  },
  {
   "metadata": {},
   "cell_type": "code",
   "source": "ids = y10.index",
   "id": "6fbab9019f738771",
   "outputs": [],
   "execution_count": null
  },
  {
   "metadata": {},
   "cell_type": "code",
   "source": [
    "from predictor.descriptor_computer import get_desc_dataset\n",
    "\n",
    "rdkit_desc = get_desc_dataset(target_id, \"rdkit\")\n",
    "rdkit_desc.shape"
   ],
   "id": "6f2f8f4ce8ed06a2",
   "outputs": [],
   "execution_count": null
  },
  {
   "metadata": {},
   "cell_type": "code",
   "source": [
    "from predictor.processing import remove_collinear_features\n",
    "\n",
    "x_rdkit_desc = rdkit_desc.drop(columns=[\"smiles\", \"standard_value\", \"Ipc\"])\n",
    "x_rdkit_desc = x_rdkit_desc.loc[ids, :]\n",
    "x_rdkit_desc.dropna(axis=1, how=\"any\", inplace=True)\n",
    "x_rdkit_desc = x_rdkit_desc.select_dtypes(include=['number'])\n",
    "x_rdkit_desc = x_rdkit_desc.loc[:, x_rdkit_desc.std() != 0]\n",
    "x_rdkit_filtered = remove_collinear_features(x_rdkit_desc, threshold=0.8)"
   ],
   "id": "f2ab84fa5134025a",
   "outputs": [],
   "execution_count": null
  },
  {
   "metadata": {},
   "cell_type": "code",
   "source": [
    "from predictor.descriptor_computer import get_desc_dataset\n",
    "\n",
    "mordred_desc = get_desc_dataset(target_id, \"mordred\")\n",
    "mordred_desc.shape"
   ],
   "id": "e64d2815ffa023b8",
   "outputs": [],
   "execution_count": null
  },
  {
   "metadata": {},
   "cell_type": "code",
   "source": [
    "x_mordred_desc = mordred_desc.drop(columns=[\"smiles\", \"standard_value\"])\n",
    "x_mordred_desc = x_mordred_desc.loc[ids, :]\n",
    "x_mordred_desc.dropna(axis=1, how=\"any\", inplace=True)\n",
    "x_mordred_desc = x_mordred_desc.select_dtypes(include=['number'])\n",
    "x_mordred_desc = x_mordred_desc.loc[:, x_mordred_desc.std() != 0]\n",
    "x_mordred_filtered = remove_collinear_features(x_mordred_desc, threshold=0.8)"
   ],
   "id": "cb72de313b90202f",
   "outputs": [],
   "execution_count": null
  },
  {
   "metadata": {},
   "cell_type": "code",
   "source": [
    "from predictor.fingerprint_computer import get_fp_dataset\n",
    "from rdkit.Chem import rdFingerprintGenerator\n",
    "\n",
    "radius=2\n",
    "fp_size=512\n",
    "fp_gen = rdFingerprintGenerator.GetMorganGenerator(radius=radius,fpSize=fp_size)\n",
    "morgan_fp = get_fp_dataset(target_id, f\"morgan_{radius}_{fp_size}\", fp_gen)\n",
    "morgan_fp.shape"
   ],
   "id": "f9f33131186c962b",
   "outputs": [],
   "execution_count": null
  },
  {
   "metadata": {},
   "cell_type": "code",
   "source": [
    "x_morgan_fp = morgan_fp.drop(columns=[\"smiles\", \"standard_value\"])\n",
    "x_morgan_fp = x_morgan_fp.loc[ids, :]\n",
    "x_morgan_fp.shape"
   ],
   "id": "79064f08356162d0",
   "outputs": [],
   "execution_count": null
  },
  {
   "cell_type": "code",
   "id": "1fd4741be5fe72c",
   "metadata": {},
   "source": [
    "from sklearn.model_selection import KFold\n",
    "\n",
    "n_splits = 5\n",
    "cv = KFold(n_splits=n_splits, shuffle=True, random_state=SEED)\n",
    "scoring = ['r2', 'neg_mean_absolute_error', 'neg_root_mean_squared_error']\n",
    "results_path = 'results.csv'"
   ],
   "outputs": [],
   "execution_count": null
  },
  {
   "metadata": {},
   "cell_type": "code",
   "outputs": [],
   "execution_count": null,
   "source": "",
   "id": "dd6a7f4a301dc35b"
  },
  {
   "metadata": {},
   "cell_type": "code",
   "source": [
    "from sklearn.decomposition import PCA\n",
    "from sklearn.linear_model import Lasso, SGDRegressor\n",
    "from sklearn.preprocessing import StandardScaler, PowerTransformer, MinMaxScaler, RobustScaler\n",
    "from predictor.pipeline import run_pipeline\n",
    "from sklearn.ensemble import RandomForestRegressor, GradientBoostingRegressor\n",
    "from sklearn.feature_selection import SelectKBest, f_regression, VarianceThreshold\n",
    "# import xgboost\n",
    "from xgboost import XGBRegressor\n",
    "from catboost import CatBoostRegressor\n",
    "\n",
    "# import xgboost\n",
    "# import catboost\n",
    "# import light\n",
    "\n",
    "# baseline: RFRegressor\n",
    "pipeline = run_pipeline(\n",
    "    X=x_morgan_fp,\n",
    "    y=y10.squeeze(),\n",
    "    cv=cv,\n",
    "    model=CatBoostRegressor(\n",
    "        random_state=SEED,\n",
    "        verbose=0\n",
    "    ),#CatBoostRegressor(\n",
    "        # depth=4,\n",
    "        # iterations=100,\n",
    "        # l2_leaf_reg=3,\n",
    "        # learning_rate=0.1,\n",
    "        #random_state=SEED, \n",
    "        # verbose=0\n",
    "    #),\n",
    "    # scaler=MinMaxScaler(),\n",
    "    # selector=SelectKBest(f_regression, k=100),\n",
    "    # dim_reducer=PCA(n_components=100),\n",
    "    scoring=scoring,\n",
    "    results_path=results_path,\n",
    ")"
   ],
   "id": "3d7f1ef7f698cd99",
   "outputs": [],
   "execution_count": null
  },
  {
   "metadata": {},
   "cell_type": "code",
   "source": "pd.DataFrame(pipeline['model'].feature_importances_, index=x_rdkit_desc.columns).sort_values(by=0, ascending=False)",
   "id": "89d13fefd0b2e6f6",
   "outputs": [],
   "execution_count": null
  },
  {
   "metadata": {},
   "cell_type": "code",
   "source": "pipeline.fit(x_rdkit_desc, y10.squeeze())",
   "id": "744ed6b0ddd1bc4a",
   "outputs": [],
   "execution_count": null
  },
  {
   "metadata": {},
   "cell_type": "code",
   "source": [
    "from sklearn import tree\n",
    "tree.plot_tree(pipeline['model'].estimators_[0])"
   ],
   "id": "c541c34a83ae66c5",
   "outputs": [],
   "execution_count": null
  },
  {
   "cell_type": "code",
   "id": "b9458edee7605d94",
   "metadata": {},
   "source": [
    "# Optimise params\n",
    "from sklearn.model_selection import GridSearchCV\n",
    "from catboost import CatBoostRegressor\n",
    "from sklearn.pipeline import Pipeline\n",
    "from predictor.pipeline import get_preprocessing_pipeline\n",
    "\n",
    "def tune_model_params(X, y, cv, selector=None, scaler=None, dim_reducer=None):\n",
    "    preprocessing = get_preprocessing_pipeline(\n",
    "        selector=selector,\n",
    "        scaler=scaler,\n",
    "        dim_reducer=dim_reducer\n",
    "    )\n",
    "\n",
    "    full_pipeline = Pipeline([\n",
    "        ('preprocessing', preprocessing),\n",
    "        ('model', CatBoostRegressor(verbose=0, random_state=42))\n",
    "    ])\n",
    "\n",
    "    param_grid = {\n",
    "        'model__depth': [4, 6, 8],\n",
    "        'model__learning_rate': [0.01, 0.05, 0.1],\n",
    "        'model__l2_leaf_reg': [1, 3, 5],\n",
    "        'model__iterations': [500]\n",
    "    }\n",
    "\n",
    "    grid_search = GridSearchCV(\n",
    "        estimator=full_pipeline,\n",
    "        param_grid=param_grid,\n",
    "        cv=cv,\n",
    "        scoring='r2',\n",
    "        n_jobs=-1\n",
    "    )\n",
    "\n",
    "    grid_search.fit(X, y)\n",
    "    print(\"Лучшие параметры:\", grid_search.best_params_)\n",
    "    print(\"R2 score (CV):\", grid_search.best_score_)\n",
    "\n",
    "    return grid_search.best_estimator_"
   ],
   "outputs": [],
   "execution_count": null
  },
  {
   "cell_type": "code",
   "id": "16fb482f",
   "metadata": {},
   "source": [
    "\n",
    "from predictor.pipeline import get_preprocessing_pipeline\n",
    "# 1. Подбор лучших параметров\n",
    "best_model_pipeline = tune_model_params(\n",
    "    X=x_rdkit_desc,\n",
    "    y=y10.squeeze(),\n",
    "    cv=cv,\n",
    "    scaler=StandardScaler()  # Или другие preprocessing шаги\n",
    ")\n",
    "\n",
    "# 2. Извлеки готовую модель\n",
    "best_model = best_model_pipeline.named_steps['model']\n",
    "\n",
    "# 3. Запусти эксперимент с лучшей моделью\n",
    "final_pipeline = run_pipeline(\n",
    "    X=x_rdkit_desc,\n",
    "    y=y10.squeeze(),\n",
    "    cv=cv,\n",
    "    model=best_model,\n",
    "    scaler=StandardScaler(),  # те же preprocessing шаги\n",
    "    scoring=scoring,\n",
    "    results_path=results_path\n",
    ")"
   ],
   "outputs": [],
   "execution_count": null
  },
  {
   "metadata": {},
   "cell_type": "code",
   "source": [
    "from sklearn.manifold import TSNE\n",
    "import matplotlib.pyplot as plt\n",
    "\n",
    "\n",
    "X = x_rdkit_desc\n",
    "\n",
    "tsne = TSNE(n_components=2, random_state=42, perplexity=30, n_iter=1000)\n",
    "X_embedded = tsne.fit_transform(X)\n",
    "\n",
    "# Plot with continuous color scale\n",
    "plt.figure(figsize=(10, 8))\n",
    "sc = plt.scatter(X_embedded[:, 0], X_embedded[:, 1], c=y10, cmap='viridis', s=60)\n",
    "plt.colorbar(sc, label='pIC50')\n",
    "plt.title('t-SNE of Molecular Descriptors (Mordred)')\n",
    "plt.xlabel('t-SNE 1')\n",
    "plt.ylabel('t-SNE 2')\n",
    "plt.tight_layout()\n",
    "plt.show()"
   ],
   "id": "fd51e6b1e4864abf",
   "outputs": [],
   "execution_count": null
  },
  {
   "metadata": {},
   "cell_type": "code",
   "source": "",
   "id": "45a04e54e817ed5b",
   "outputs": [],
   "execution_count": null
  }
 ],
 "metadata": {
  "kernelspec": {
   "display_name": "Python 3",
   "language": "python",
   "name": "python3"
  },
  "language_info": {
   "codemirror_mode": {
    "name": "ipython",
    "version": 3
   },
   "file_extension": ".py",
   "mimetype": "text/x-python",
   "name": "python",
   "nbconvert_exporter": "python",
   "pygments_lexer": "ipython3",
   "version": "3.12.2"
  }
 },
 "nbformat": 4,
 "nbformat_minor": 5
}
