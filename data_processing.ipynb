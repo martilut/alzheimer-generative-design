{
 "cells": [
  {
   "metadata": {
    "collapsed": true,
    "jupyter": {
     "is_executing": true
    }
   },
   "cell_type": "code",
   "source": "import pandas as pd",
   "id": "initial_id",
   "outputs": [],
   "execution_count": null
  },
  {
   "metadata": {},
   "cell_type": "code",
   "outputs": [],
   "execution_count": null,
   "source": "import mordred",
   "id": "a152d918738dd233"
  },
  {
   "metadata": {
    "ExecuteTime": {
     "end_time": "2025-07-13T16:33:15.054395Z",
     "start_time": "2025-07-13T16:33:15.046392Z"
    }
   },
   "cell_type": "code",
   "source": [
    "# Target id\n",
    "target_id = \"CHEMBL2760\""
   ],
   "id": "b1eeb735a3fe2c43",
   "outputs": [],
   "execution_count": 2
  },
  {
   "metadata": {
    "ExecuteTime": {
     "end_time": "2025-07-13T16:33:16.260503Z",
     "start_time": "2025-07-13T16:33:15.706843Z"
    }
   },
   "cell_type": "code",
   "source": [
    "from loader.load_chembl import parse_activities\n",
    "# Load the data\n",
    "target_raw = parse_activities(target_id=target_id)"
   ],
   "id": "f13e9e14d7554b54",
   "outputs": [],
   "execution_count": 3
  },
  {
   "metadata": {
    "ExecuteTime": {
     "end_time": "2025-07-13T16:33:16.855368Z",
     "start_time": "2025-07-13T16:33:16.812788Z"
    }
   },
   "cell_type": "code",
   "source": "target_raw.head()",
   "id": "3f901a13e57b1f4d",
   "outputs": [
    {
     "data": {
      "text/plain": [
       "  action_type  activity_comment  activity_id activity_properties  \\\n",
       "0         NaN               NaN       188231                  []   \n",
       "1         NaN               NaN       194117                  []   \n",
       "2         NaN               NaN       206131                  []   \n",
       "3         NaN               NaN       206133                  []   \n",
       "4         NaN               NaN       210721                  []   \n",
       "\n",
       "  assay_chembl_id                                  assay_description  \\\n",
       "0    CHEMBL644937  Inhibitory activity against Acid sphingomyelinase   \n",
       "1    CHEMBL644937  Inhibitory activity against Acid sphingomyelinase   \n",
       "2    CHEMBL644937  Inhibitory activity against Acid sphingomyelinase   \n",
       "3    CHEMBL644937  Inhibitory activity against Acid sphingomyelinase   \n",
       "4    CHEMBL644937  Inhibitory activity against Acid sphingomyelinase   \n",
       "\n",
       "  assay_type  assay_variant_accession  assay_variant_mutation bao_endpoint  \\\n",
       "0          B                      NaN                     NaN  BAO_0000190   \n",
       "1          B                      NaN                     NaN  BAO_0000190   \n",
       "2          B                      NaN                     NaN  BAO_0000190   \n",
       "3          B                      NaN                     NaN  BAO_0000190   \n",
       "4          B                      NaN                     NaN  BAO_0000190   \n",
       "\n",
       "   ... target_organism                 target_pref_name target_tax_id  \\\n",
       "0  ...    Homo sapiens  Sphingomyelin phosphodiesterase          9606   \n",
       "1  ...    Homo sapiens  Sphingomyelin phosphodiesterase          9606   \n",
       "2  ...    Homo sapiens  Sphingomyelin phosphodiesterase          9606   \n",
       "3  ...    Homo sapiens  Sphingomyelin phosphodiesterase          9606   \n",
       "4  ...    Homo sapiens  Sphingomyelin phosphodiesterase          9606   \n",
       "\n",
       "  text_value toid  type    units    uo_units upper_value  value  \n",
       "0        NaN  NaN  IC50  ug ml-1  UO_0000274         NaN   5.25  \n",
       "1        NaN  NaN  IC50  ug ml-1  UO_0000274         NaN  24.00  \n",
       "2        NaN  NaN  IC50  ug ml-1  UO_0000274         NaN   5.30  \n",
       "3        NaN  NaN  IC50  ug ml-1  UO_0000274         NaN   5.15  \n",
       "4        NaN  NaN  IC50  ug ml-1  UO_0000274         NaN  34.50  \n",
       "\n",
       "[5 rows x 46 columns]"
      ],
      "text/html": [
       "<div>\n",
       "<style scoped>\n",
       "    .dataframe tbody tr th:only-of-type {\n",
       "        vertical-align: middle;\n",
       "    }\n",
       "\n",
       "    .dataframe tbody tr th {\n",
       "        vertical-align: top;\n",
       "    }\n",
       "\n",
       "    .dataframe thead th {\n",
       "        text-align: right;\n",
       "    }\n",
       "</style>\n",
       "<table border=\"1\" class=\"dataframe\">\n",
       "  <thead>\n",
       "    <tr style=\"text-align: right;\">\n",
       "      <th></th>\n",
       "      <th>action_type</th>\n",
       "      <th>activity_comment</th>\n",
       "      <th>activity_id</th>\n",
       "      <th>activity_properties</th>\n",
       "      <th>assay_chembl_id</th>\n",
       "      <th>assay_description</th>\n",
       "      <th>assay_type</th>\n",
       "      <th>assay_variant_accession</th>\n",
       "      <th>assay_variant_mutation</th>\n",
       "      <th>bao_endpoint</th>\n",
       "      <th>...</th>\n",
       "      <th>target_organism</th>\n",
       "      <th>target_pref_name</th>\n",
       "      <th>target_tax_id</th>\n",
       "      <th>text_value</th>\n",
       "      <th>toid</th>\n",
       "      <th>type</th>\n",
       "      <th>units</th>\n",
       "      <th>uo_units</th>\n",
       "      <th>upper_value</th>\n",
       "      <th>value</th>\n",
       "    </tr>\n",
       "  </thead>\n",
       "  <tbody>\n",
       "    <tr>\n",
       "      <th>0</th>\n",
       "      <td>NaN</td>\n",
       "      <td>NaN</td>\n",
       "      <td>188231</td>\n",
       "      <td>[]</td>\n",
       "      <td>CHEMBL644937</td>\n",
       "      <td>Inhibitory activity against Acid sphingomyelinase</td>\n",
       "      <td>B</td>\n",
       "      <td>NaN</td>\n",
       "      <td>NaN</td>\n",
       "      <td>BAO_0000190</td>\n",
       "      <td>...</td>\n",
       "      <td>Homo sapiens</td>\n",
       "      <td>Sphingomyelin phosphodiesterase</td>\n",
       "      <td>9606</td>\n",
       "      <td>NaN</td>\n",
       "      <td>NaN</td>\n",
       "      <td>IC50</td>\n",
       "      <td>ug ml-1</td>\n",
       "      <td>UO_0000274</td>\n",
       "      <td>NaN</td>\n",
       "      <td>5.25</td>\n",
       "    </tr>\n",
       "    <tr>\n",
       "      <th>1</th>\n",
       "      <td>NaN</td>\n",
       "      <td>NaN</td>\n",
       "      <td>194117</td>\n",
       "      <td>[]</td>\n",
       "      <td>CHEMBL644937</td>\n",
       "      <td>Inhibitory activity against Acid sphingomyelinase</td>\n",
       "      <td>B</td>\n",
       "      <td>NaN</td>\n",
       "      <td>NaN</td>\n",
       "      <td>BAO_0000190</td>\n",
       "      <td>...</td>\n",
       "      <td>Homo sapiens</td>\n",
       "      <td>Sphingomyelin phosphodiesterase</td>\n",
       "      <td>9606</td>\n",
       "      <td>NaN</td>\n",
       "      <td>NaN</td>\n",
       "      <td>IC50</td>\n",
       "      <td>ug ml-1</td>\n",
       "      <td>UO_0000274</td>\n",
       "      <td>NaN</td>\n",
       "      <td>24.00</td>\n",
       "    </tr>\n",
       "    <tr>\n",
       "      <th>2</th>\n",
       "      <td>NaN</td>\n",
       "      <td>NaN</td>\n",
       "      <td>206131</td>\n",
       "      <td>[]</td>\n",
       "      <td>CHEMBL644937</td>\n",
       "      <td>Inhibitory activity against Acid sphingomyelinase</td>\n",
       "      <td>B</td>\n",
       "      <td>NaN</td>\n",
       "      <td>NaN</td>\n",
       "      <td>BAO_0000190</td>\n",
       "      <td>...</td>\n",
       "      <td>Homo sapiens</td>\n",
       "      <td>Sphingomyelin phosphodiesterase</td>\n",
       "      <td>9606</td>\n",
       "      <td>NaN</td>\n",
       "      <td>NaN</td>\n",
       "      <td>IC50</td>\n",
       "      <td>ug ml-1</td>\n",
       "      <td>UO_0000274</td>\n",
       "      <td>NaN</td>\n",
       "      <td>5.30</td>\n",
       "    </tr>\n",
       "    <tr>\n",
       "      <th>3</th>\n",
       "      <td>NaN</td>\n",
       "      <td>NaN</td>\n",
       "      <td>206133</td>\n",
       "      <td>[]</td>\n",
       "      <td>CHEMBL644937</td>\n",
       "      <td>Inhibitory activity against Acid sphingomyelinase</td>\n",
       "      <td>B</td>\n",
       "      <td>NaN</td>\n",
       "      <td>NaN</td>\n",
       "      <td>BAO_0000190</td>\n",
       "      <td>...</td>\n",
       "      <td>Homo sapiens</td>\n",
       "      <td>Sphingomyelin phosphodiesterase</td>\n",
       "      <td>9606</td>\n",
       "      <td>NaN</td>\n",
       "      <td>NaN</td>\n",
       "      <td>IC50</td>\n",
       "      <td>ug ml-1</td>\n",
       "      <td>UO_0000274</td>\n",
       "      <td>NaN</td>\n",
       "      <td>5.15</td>\n",
       "    </tr>\n",
       "    <tr>\n",
       "      <th>4</th>\n",
       "      <td>NaN</td>\n",
       "      <td>NaN</td>\n",
       "      <td>210721</td>\n",
       "      <td>[]</td>\n",
       "      <td>CHEMBL644937</td>\n",
       "      <td>Inhibitory activity against Acid sphingomyelinase</td>\n",
       "      <td>B</td>\n",
       "      <td>NaN</td>\n",
       "      <td>NaN</td>\n",
       "      <td>BAO_0000190</td>\n",
       "      <td>...</td>\n",
       "      <td>Homo sapiens</td>\n",
       "      <td>Sphingomyelin phosphodiesterase</td>\n",
       "      <td>9606</td>\n",
       "      <td>NaN</td>\n",
       "      <td>NaN</td>\n",
       "      <td>IC50</td>\n",
       "      <td>ug ml-1</td>\n",
       "      <td>UO_0000274</td>\n",
       "      <td>NaN</td>\n",
       "      <td>34.50</td>\n",
       "    </tr>\n",
       "  </tbody>\n",
       "</table>\n",
       "<p>5 rows × 46 columns</p>\n",
       "</div>"
      ]
     },
     "execution_count": 4,
     "metadata": {},
     "output_type": "execute_result"
    }
   ],
   "execution_count": 4
  },
  {
   "metadata": {
    "ExecuteTime": {
     "end_time": "2025-07-13T16:33:17.943837Z",
     "start_time": "2025-07-13T16:33:17.912847Z"
    }
   },
   "cell_type": "code",
   "source": [
    "from loader.clean_chembl import clean_data\n",
    "# Clean the data\n",
    "target_clean = clean_data(target_id=target_id, rewrite=False)"
   ],
   "id": "5922497dcd43d030",
   "outputs": [],
   "execution_count": 5
  },
  {
   "metadata": {
    "ExecuteTime": {
     "end_time": "2025-07-13T16:33:18.885939Z",
     "start_time": "2025-07-13T16:33:18.873959Z"
    }
   },
   "cell_type": "code",
   "source": "target_clean.head()",
   "id": "885293f1758fe746",
   "outputs": [
    {
     "data": {
      "text/plain": [
       "                                                     canonical_smiles  \\\n",
       "molecule_chembl_id                                                      \n",
       "CHEMBL323197        COc1c(O)cc2oc3cc(O)c(CC=C(C)C)c(O)c3c(=O)c2c1C...   \n",
       "CHEMBL4167681                          CCCCCCCCCCOc1cc(C(=O)NO)ccc1OC   \n",
       "CHEMBL320658           COc1c(O)cc(O)c(C(=O)c2c(O)cc(O)cc2O)c1CC=C(C)C   \n",
       "CHEMBL109045           COc1cc(C(=O)c2c(O)cc(O)c(CC=C(C)C)c2O)c(O)cc1O   \n",
       "CHEMBL4464068                             CCCCCCCCCCOc1cc(C(=O)NO)on1   \n",
       "\n",
       "                    standard_value  \n",
       "molecule_chembl_id                  \n",
       "CHEMBL323197               14100.0  \n",
       "CHEMBL4167681                890.0  \n",
       "CHEMBL320658               14700.0  \n",
       "CHEMBL109045               66000.0  \n",
       "CHEMBL4464068                360.0  "
      ],
      "text/html": [
       "<div>\n",
       "<style scoped>\n",
       "    .dataframe tbody tr th:only-of-type {\n",
       "        vertical-align: middle;\n",
       "    }\n",
       "\n",
       "    .dataframe tbody tr th {\n",
       "        vertical-align: top;\n",
       "    }\n",
       "\n",
       "    .dataframe thead th {\n",
       "        text-align: right;\n",
       "    }\n",
       "</style>\n",
       "<table border=\"1\" class=\"dataframe\">\n",
       "  <thead>\n",
       "    <tr style=\"text-align: right;\">\n",
       "      <th></th>\n",
       "      <th>canonical_smiles</th>\n",
       "      <th>standard_value</th>\n",
       "    </tr>\n",
       "    <tr>\n",
       "      <th>molecule_chembl_id</th>\n",
       "      <th></th>\n",
       "      <th></th>\n",
       "    </tr>\n",
       "  </thead>\n",
       "  <tbody>\n",
       "    <tr>\n",
       "      <th>CHEMBL323197</th>\n",
       "      <td>COc1c(O)cc2oc3cc(O)c(CC=C(C)C)c(O)c3c(=O)c2c1C...</td>\n",
       "      <td>14100.0</td>\n",
       "    </tr>\n",
       "    <tr>\n",
       "      <th>CHEMBL4167681</th>\n",
       "      <td>CCCCCCCCCCOc1cc(C(=O)NO)ccc1OC</td>\n",
       "      <td>890.0</td>\n",
       "    </tr>\n",
       "    <tr>\n",
       "      <th>CHEMBL320658</th>\n",
       "      <td>COc1c(O)cc(O)c(C(=O)c2c(O)cc(O)cc2O)c1CC=C(C)C</td>\n",
       "      <td>14700.0</td>\n",
       "    </tr>\n",
       "    <tr>\n",
       "      <th>CHEMBL109045</th>\n",
       "      <td>COc1cc(C(=O)c2c(O)cc(O)c(CC=C(C)C)c2O)c(O)cc1O</td>\n",
       "      <td>66000.0</td>\n",
       "    </tr>\n",
       "    <tr>\n",
       "      <th>CHEMBL4464068</th>\n",
       "      <td>CCCCCCCCCCOc1cc(C(=O)NO)on1</td>\n",
       "      <td>360.0</td>\n",
       "    </tr>\n",
       "  </tbody>\n",
       "</table>\n",
       "</div>"
      ]
     },
     "execution_count": 6,
     "metadata": {},
     "output_type": "execute_result"
    }
   ],
   "execution_count": 6
  },
  {
   "metadata": {
    "ExecuteTime": {
     "end_time": "2025-07-13T16:33:20.339583Z",
     "start_time": "2025-07-13T16:33:19.781116Z"
    }
   },
   "cell_type": "code",
   "source": [
    "from predictor.descriptor_computer import get_desc_dataset\n",
    "\n",
    "rdkit_desc = get_desc_dataset(target_id, \"rdkit\")\n",
    "rdkit_desc.head()"
   ],
   "id": "6f2f8f4ce8ed06a2",
   "outputs": [
    {
     "ename": "ModuleNotFoundError",
     "evalue": "No module named 'mordred'",
     "output_type": "error",
     "traceback": [
      "\u001B[1;31m---------------------------------------------------------------------------\u001B[0m",
      "\u001B[1;31mModuleNotFoundError\u001B[0m                       Traceback (most recent call last)",
      "Cell \u001B[1;32mIn[7], line 1\u001B[0m\n\u001B[1;32m----> 1\u001B[0m \u001B[38;5;28;01mfrom\u001B[39;00m\u001B[38;5;250m \u001B[39m\u001B[38;5;21;01mpredictor\u001B[39;00m\u001B[38;5;21;01m.\u001B[39;00m\u001B[38;5;21;01mdescriptor_computer\u001B[39;00m\u001B[38;5;250m \u001B[39m\u001B[38;5;28;01mimport\u001B[39;00m get_desc_dataset\n\u001B[0;32m      3\u001B[0m rdkit_desc \u001B[38;5;241m=\u001B[39m get_desc_dataset(target_id, \u001B[38;5;124m\"\u001B[39m\u001B[38;5;124mrdkit\u001B[39m\u001B[38;5;124m\"\u001B[39m)\n\u001B[0;32m      4\u001B[0m rdkit_desc\u001B[38;5;241m.\u001B[39mhead()\n",
      "File \u001B[1;32mD:\\python_projects\\alzheimer-generative-design\\predictor\\descriptor_computer.py:4\u001B[0m\n\u001B[0;32m      1\u001B[0m \u001B[38;5;28;01mimport\u001B[39;00m\u001B[38;5;250m \u001B[39m\u001B[38;5;21;01mtraceback\u001B[39;00m\n\u001B[0;32m      3\u001B[0m \u001B[38;5;28;01mimport\u001B[39;00m\u001B[38;5;250m \u001B[39m\u001B[38;5;21;01mpandas\u001B[39;00m\u001B[38;5;250m \u001B[39m\u001B[38;5;28;01mas\u001B[39;00m\u001B[38;5;250m \u001B[39m\u001B[38;5;21;01mpd\u001B[39;00m\n\u001B[1;32m----> 4\u001B[0m \u001B[38;5;28;01mimport\u001B[39;00m\u001B[38;5;250m \u001B[39m\u001B[38;5;21;01mmordred\u001B[39;00m\n\u001B[0;32m      5\u001B[0m \u001B[38;5;28;01mfrom\u001B[39;00m\u001B[38;5;250m \u001B[39m\u001B[38;5;21;01mmordred\u001B[39;00m\u001B[38;5;250m \u001B[39m\u001B[38;5;28;01mimport\u001B[39;00m Calculator, descriptors\n\u001B[0;32m      6\u001B[0m \u001B[38;5;28;01mfrom\u001B[39;00m\u001B[38;5;250m \u001B[39m\u001B[38;5;21;01mrdkit\u001B[39;00m\u001B[38;5;21;01m.\u001B[39;00m\u001B[38;5;21;01mChem\u001B[39;00m\u001B[38;5;250m \u001B[39m\u001B[38;5;28;01mimport\u001B[39;00m Descriptors\n",
      "\u001B[1;31mModuleNotFoundError\u001B[0m: No module named 'mordred'"
     ]
    }
   ],
   "execution_count": 7
  },
  {
   "metadata": {
    "ExecuteTime": {
     "end_time": "2025-07-13T16:32:47.176273500Z",
     "start_time": "2025-07-13T16:30:19.766277Z"
    }
   },
   "cell_type": "code",
   "source": [
    "from predictor.descriptor_computer import get_desc_dataset\n",
    "\n",
    "mordred_desc = get_desc_dataset(target_id, \"mordred\")\n",
    "rdkit_desc.head()"
   ],
   "id": "e64d2815ffa023b8",
   "outputs": [
    {
     "ename": "KeyError",
     "evalue": "'mordred'",
     "output_type": "error",
     "traceback": [
      "\u001B[1;31m---------------------------------------------------------------------------\u001B[0m",
      "\u001B[1;31mKeyError\u001B[0m                                  Traceback (most recent call last)",
      "Cell \u001B[1;32mIn[11], line 3\u001B[0m\n\u001B[0;32m      1\u001B[0m \u001B[38;5;28;01mfrom\u001B[39;00m\u001B[38;5;250m \u001B[39m\u001B[38;5;21;01mpredictor\u001B[39;00m\u001B[38;5;21;01m.\u001B[39;00m\u001B[38;5;21;01mdescriptor_computer\u001B[39;00m\u001B[38;5;250m \u001B[39m\u001B[38;5;28;01mimport\u001B[39;00m get_desc_dataset\n\u001B[1;32m----> 3\u001B[0m mordred_desc \u001B[38;5;241m=\u001B[39m \u001B[43mget_desc_dataset\u001B[49m\u001B[43m(\u001B[49m\u001B[43mtarget_id\u001B[49m\u001B[43m,\u001B[49m\u001B[43m \u001B[49m\u001B[38;5;124;43m\"\u001B[39;49m\u001B[38;5;124;43mmordred\u001B[39;49m\u001B[38;5;124;43m\"\u001B[39;49m\u001B[43m)\u001B[49m\n\u001B[0;32m      4\u001B[0m rdkit_desc\u001B[38;5;241m.\u001B[39mhead()\n",
      "File \u001B[1;32mD:\\python_projects\\alzheimer-generative-design\\predictor\\descriptor_computer.py:62\u001B[0m, in \u001B[0;36mget_desc_dataset\u001B[1;34m(target_id, desc_func_name)\u001B[0m\n\u001B[0;32m     59\u001B[0m dataset \u001B[38;5;241m=\u001B[39m pd\u001B[38;5;241m.\u001B[39mDataFrame(dataset)\n\u001B[0;32m     60\u001B[0m dataset\u001B[38;5;241m.\u001B[39mset_index(\u001B[38;5;124m\"\u001B[39m\u001B[38;5;124mmolecule_chembl_id\u001B[39m\u001B[38;5;124m\"\u001B[39m, drop\u001B[38;5;241m=\u001B[39m\u001B[38;5;28;01mTrue\u001B[39;00m, inplace\u001B[38;5;241m=\u001B[39m\u001B[38;5;28;01mTrue\u001B[39;00m)\n\u001B[1;32m---> 62\u001B[0m dataset\u001B[38;5;241m.\u001B[39mto_csv(path, index\u001B[38;5;241m=\u001B[39m\u001B[38;5;28;01mTrue\u001B[39;00m)\n\u001B[0;32m     63\u001B[0m \u001B[38;5;28;01mreturn\u001B[39;00m dataset\n",
      "\u001B[1;31mKeyError\u001B[0m: 'mordred'"
     ]
    }
   ],
   "execution_count": 11
  },
  {
   "metadata": {},
   "cell_type": "code",
   "outputs": [],
   "execution_count": null,
   "source": "",
   "id": "f9f33131186c962b"
  }
 ],
 "metadata": {
  "kernelspec": {
   "display_name": "Python 3",
   "language": "python",
   "name": "python3"
  },
  "language_info": {
   "codemirror_mode": {
    "name": "ipython",
    "version": 2
   },
   "file_extension": ".py",
   "mimetype": "text/x-python",
   "name": "python",
   "nbconvert_exporter": "python",
   "pygments_lexer": "ipython2",
   "version": "2.7.6"
  }
 },
 "nbformat": 4,
 "nbformat_minor": 5
}
