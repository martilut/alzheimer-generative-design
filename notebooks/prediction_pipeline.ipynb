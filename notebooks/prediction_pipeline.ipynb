{
 "cells": [
  {
   "cell_type": "code",
   "id": "initial_id",
   "metadata": {
    "collapsed": true,
    "ExecuteTime": {
     "end_time": "2025-07-15T19:54:22.327839Z",
     "start_time": "2025-07-15T19:54:19.104937Z"
    }
   },
   "source": [
    "from agd.predictor.predict import predict_rdkit_morgan\n",
    "\n",
    "predict_rdkit_morgan(\n",
    "    smiles=\"COc1ccc(CNC(=O)Nc2ncc([N+](=O)[O-])s2)cc1\",\n",
    "    model_name=\"catboost\",\n",
    ")"
   ],
   "outputs": [
    {
     "data": {
      "text/plain": [
       "5.939669569068589"
      ]
     },
     "execution_count": 1,
     "metadata": {},
     "output_type": "execute_result"
    }
   ],
   "execution_count": 1
  }
 ],
 "metadata": {
  "kernelspec": {
   "display_name": "Python 3",
   "language": "python",
   "name": "python3"
  },
  "language_info": {
   "codemirror_mode": {
    "name": "ipython",
    "version": 2
   },
   "file_extension": ".py",
   "mimetype": "text/x-python",
   "name": "python",
   "nbconvert_exporter": "python",
   "pygments_lexer": "ipython2",
   "version": "2.7.6"
  }
 },
 "nbformat": 4,
 "nbformat_minor": 5
}
