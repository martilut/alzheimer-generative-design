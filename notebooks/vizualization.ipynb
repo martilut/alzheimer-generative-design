{
 "cells": [
  {
   "cell_type": "code",
   "id": "initial_id",
   "metadata": {
    "collapsed": true
   },
   "source": [
    "from sklearn.manifold import TSNE\n",
    "import matplotlib.pyplot as plt\n",
    "import pandas as pd\n",
    "import numpy as np\n",
    "\n",
    "from utils.utils import pjoin, get_project_path"
   ],
   "outputs": [],
   "execution_count": null
  },
  {
   "metadata": {},
   "cell_type": "code",
   "source": [
    "target_id = \"CHEMBL262\"\n",
    "desc = \"rdkit\"\n",
    "path = pjoin(get_project_path(), \"data\", f\"{target_id}_{desc}.csv\")"
   ],
   "id": "2a75eede2b37178",
   "outputs": [],
   "execution_count": null
  },
  {
   "metadata": {},
   "cell_type": "code",
   "source": [
    "X = pd.read_csv(path, index_col=0)\n",
    "X.dropna(axis=0, how=\"any\", inplace=True)"
   ],
   "id": "90ce1e1ba6d48274",
   "outputs": [],
   "execution_count": null
  },
  {
   "metadata": {},
   "cell_type": "code",
   "source": [
    "y10 = X['standard_value'] * 1e-9 # to moles\n",
    "y10 = -np.log10(y10)\n",
    "y10.dropna(inplace=True)"
   ],
   "id": "490dbac176032c64",
   "outputs": [],
   "execution_count": null
  },
  {
   "metadata": {},
   "cell_type": "code",
   "source": "X.drop([\"smiles\", \"standard_value\"], axis=1, inplace=True)",
   "id": "2badca3aa8e4f90a",
   "outputs": [],
   "execution_count": null
  },
  {
   "metadata": {},
   "cell_type": "code",
   "source": "X = X.loc[y10.index]  # Ensure X matches y10 indices",
   "id": "1d6846d36fe5b73a",
   "outputs": [],
   "execution_count": null
  },
  {
   "metadata": {},
   "cell_type": "code",
   "source": [
    "tsne = TSNE(n_components=2, random_state=42, perplexity=30, n_iter=1000)\n",
    "X_embedded = tsne.fit_transform(X)\n",
    "\n",
    "# Plot with continuous color scale\n",
    "plt.figure(figsize=(10, 8))\n",
    "sc = plt.scatter(X_embedded[:, 0], X_embedded[:, 1], c=y10, cmap='viridis', s=60)\n",
    "plt.colorbar(sc, label='pIC50')\n",
    "plt.title(f't-SNE of Molecular Descriptors ({desc})')\n",
    "plt.xlabel('t-SNE 1')\n",
    "plt.ylabel('t-SNE 2')\n",
    "plt.tight_layout()\n",
    "plt.show()"
   ],
   "id": "c07cc49be197f469",
   "outputs": [],
   "execution_count": null
  }
 ],
 "metadata": {
  "kernelspec": {
   "display_name": "Python 3",
   "language": "python",
   "name": "python3"
  },
  "language_info": {
   "codemirror_mode": {
    "name": "ipython",
    "version": 2
   },
   "file_extension": ".py",
   "mimetype": "text/x-python",
   "name": "python",
   "nbconvert_exporter": "python",
   "pygments_lexer": "ipython2",
   "version": "2.7.6"
  }
 },
 "nbformat": 4,
 "nbformat_minor": 5
}
